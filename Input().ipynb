{
  "nbformat": 4,
  "nbformat_minor": 0,
  "metadata": {
    "colab": {
      "name": "Untitled1.ipynb",
      "provenance": [],
      "authorship_tag": "ABX9TyNX3BKq0OJAQ9n7JQjUsDQF"
    },
    "kernelspec": {
      "name": "python3",
      "display_name": "Python 3"
    },
    "language_info": {
      "name": "python"
    }
  },
  "cells": [
    {
      "cell_type": "code",
      "execution_count": null,
      "metadata": {
        "id": "Ho9Sb2WsfP0I"
      },
      "outputs": [],
      "source": [
        "x_k=input().split()\n",
        "x=int(x_k[0])\n",
        "p=eval(input())\n",
        "if p==int(x_k[1]):\n",
        "  print(True)\n",
        "else:\n",
        "  print(False)\n"
      ]
    }
  ]
}